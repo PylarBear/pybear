{
 "cells": [
  {
   "cell_type": "code",
   "execution_count": null,
   "id": "678a2e36-b6a7-4423-82bc-1598e81502ce",
   "metadata": {},
   "outputs": [],
   "source": []
  },
  {
   "cell_type": "code",
   "execution_count": null,
   "id": "269c1db2-d667-45f9-a773-f7a114368f75",
   "metadata": {},
   "outputs": [],
   "source": []
  },
  {
   "cell_type": "code",
   "execution_count": null,
   "id": "1fd1e2b1-bce8-4514-ad0d-18aa5041b97b",
   "metadata": {},
   "outputs": [],
   "source": []
  },
  {
   "cell_type": "code",
   "execution_count": null,
   "id": "7b30fa31-f9b9-42d2-934f-6b339f1178bb",
   "metadata": {},
   "outputs": [],
   "source": []
  },
  {
   "cell_type": "code",
   "execution_count": null,
   "id": "6674b975-5969-4723-aa82-2937cc3fe094",
   "metadata": {},
   "outputs": [],
   "source": []
  },
  {
   "cell_type": "code",
   "execution_count": null,
   "id": "0a116232-b654-4056-9336-2c1f8db4b7af",
   "metadata": {},
   "outputs": [],
   "source": []
  },
  {
   "cell_type": "code",
   "execution_count": null,
   "id": "69f49b34-4078-4a81-94d3-23e3760f6b7e",
   "metadata": {},
   "outputs": [],
   "source": []
  },
  {
   "cell_type": "code",
   "execution_count": null,
   "id": "0b04eba9-ac10-42e3-ae23-67f5834e2696",
   "metadata": {},
   "outputs": [],
   "source": []
  },
  {
   "cell_type": "code",
   "execution_count": null,
   "id": "64997cb7-46f7-443e-ad20-19fb9c268ba6",
   "metadata": {},
   "outputs": [],
   "source": []
  },
  {
   "cell_type": "code",
   "execution_count": null,
   "id": "a7b8cb45-5817-4bbf-ab78-09f108943346",
   "metadata": {},
   "outputs": [],
   "source": [
    "print(f\"_cv_results_template['mean_fit_time'] = {_cv_results_template['mean_fit_time']}\")\n",
    "print(f\"_cv_results_template['std_fit_time'] = {_cv_results_template['std_fit_time']}\")\n",
    "print(f\"_cv_results_template['mean_score_time'] = {_cv_results_template['mean_score_time']}\")\n",
    "print(f\"_cv_results_template['std_score_time'] = {_cv_results_template['std_score_time']}\")\n",
    "print(f\"_cv_results_template['param_param_1'] = {_cv_results_template['param_param_1']}\")\n",
    "print(f\"_cv_results_template['param_param_2'] = {_cv_results_template['param_param_2']}\")\n",
    "print(f\"_cv_results_template['params'] = {_cv_results_template['params']}\")\n",
    "print(f\"_cv_results_template['best_threshold_accuracy'] = {_cv_results_template['best_threshold_accuracy']}\")\n",
    "print(f\"_cv_results_template['split0_test_accuracy'] = {_cv_results_template['split0_test_accuracy']}\")\n",
    "print(f\"_cv_results_template['split1_test_accuracy'] = {_cv_results_template['split1_test_accuracy']}\")\n",
    "print(f\"_cv_results_template['mean_test_accuracy'] = {_cv_results_template['mean_test_accuracy']}\")\n",
    "print(f\"_cv_results_template['std_test_accuracy'] = {_cv_results_template['std_test_accuracy']}\")\n",
    "print(f\"_cv_results_template['rank_test_accuracy'] = {_cv_results_template['rank_test_accuracy']}\")\n",
    "print(f\"_cv_results_template['split0_train_accuracy'] = {_cv_results_template['split0_train_accuracy']}\")\n",
    "print(f\"_cv_results_template['split1_train_accuracy'] = {_cv_results_template['split1_train_accuracy']}\")\n",
    "print(f\"_cv_results_template['mean_train_accuracy'] = {_cv_results_template['mean_train_accuracy']}\")\n",
    "print(f\"_cv_results_template['std_train_accuracy'] = {_cv_results_template['std_train_accuracy']}\")\n",
    "print(f\"_cv_results_template['best_threshold_balanced_accuracy'] = {_cv_results_template['best_threshold_balanced_accuracy']}\")\n",
    "print(f\"_cv_results_template['split0_test_balanced_accuracy'] = {_cv_results_template['split0_test_balanced_accuracy']}\")\n",
    "print(f\"_cv_results_template['split1_test_balanced_accuracy'] = {_cv_results_template['split1_test_balanced_accuracy']}\")\n",
    "print(f\"_cv_results_template['mean_test_balanced_accuracy'] = {_cv_results_template['mean_test_balanced_accuracy']}\")\n",
    "print(f\"_cv_results_template['std_test_balanced_accuracy'] = {_cv_results_template['std_test_balanced_accuracy']}\")\n",
    "print(f\"_cv_results_template['rank_test_balanced_accuracy'] = {_cv_results_template['rank_test_balanced_accuracy']}\")\n",
    "print(f\"_cv_results_template['split0_train_balanced_accuracy'] = {_cv_results_template['split0_train_balanced_accuracy']}\")\n",
    "print(f\"_cv_results_template['split1_train_balanced_accuracy'] = {_cv_results_template['split1_train_balanced_accuracy']}\")\n",
    "print(f\"_cv_results_template['mean_train_balanced_accuracy'] = {_cv_results_template['mean_train_balanced_accuracy']}\")\n",
    "print(f\"_cv_results_template['std_train_balanced_accuracy'] = {_cv_results_template['std_train_balanced_accuracy']}\""
   ]
  }
 ],
 "metadata": {
  "kernelspec": {
   "display_name": "Python 3 (ipykernel)",
   "language": "python",
   "name": "python3"
  },
  "language_info": {
   "codemirror_mode": {
    "name": "ipython",
    "version": 3
   },
   "file_extension": ".py",
   "mimetype": "text/x-python",
   "name": "python",
   "nbconvert_exporter": "python",
   "pygments_lexer": "ipython3",
   "version": "3.11.5"
  }
 },
 "nbformat": 4,
 "nbformat_minor": 5
}
