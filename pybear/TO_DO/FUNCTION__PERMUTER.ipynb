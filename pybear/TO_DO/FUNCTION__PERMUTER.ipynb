{
 "cells": [
  {
   "cell_type": "code",
   "execution_count": null,
   "id": "051f704c-42e9-466c-8984-346d6942e0ea",
   "metadata": {},
   "outputs": [],
   "source": [
    "import numpy as np\n",
    "\n",
    "def permuter(vector_of_lens):\n",
    "    \n",
    "    cp_vector_of_lens = np.array(vector_of_lens).copy()\n",
    "\n",
    "    if (cp_vector_of_lens <= 0).any():\n",
    "        raise Exception(f\"vector_of_lens cannot contain any <= 0\")\n",
    "        \n",
    "    \n",
    "    def recursive_fxn(cp_vector_of_lens):\n",
    "        if len(cp_vector_of_lens)==1:\n",
    "            seed_array = np.zeros((cp_vector_of_lens[0], len(vector_of_lens)), dtype=int)\n",
    "            seed_array[:, -1] = range(cp_vector_of_lens[0])\n",
    "            return seed_array\n",
    "        else:\n",
    "            seed_array = recursive_fxn(cp_vector_of_lens[1:])\n",
    "            stack = np.empty((0, len(vector_of_lens)), dtype=np.uint32)\n",
    "            for param_idx in range(cp_vector_of_lens[0]):\n",
    "                filled_array = seed_array.copy()\n",
    "                filled_array[:, len(vector_of_lens) - len(cp_vector_of_lens)] = param_idx\n",
    "                stack = np.vstack((stack, filled_array))\n",
    "    \n",
    "            del filled_array\n",
    "            return stack\n",
    "\n",
    "    permutations = list(map(tuple, recursive_fxn(cp_vector_of_lens)))\n",
    "\n",
    "    del cp_vector_of_lens, recursive_fxn\n",
    "        \n",
    "    return permutations\n",
    "\n",
    "permuter([2,2,3])"
   ]
  },
  {
   "cell_type": "code",
   "execution_count": null,
   "id": "f60d3108-a392-4bcf-a5f2-19ce791c5842",
   "metadata": {},
   "outputs": [],
   "source": []
  },
  {
   "cell_type": "code",
   "execution_count": null,
   "id": "98921508-b1bc-4edb-84ee-b382742dafb1",
   "metadata": {},
   "outputs": [],
   "source": []
  }
 ],
 "metadata": {
  "kernelspec": {
   "display_name": "Python 3 (ipykernel)",
   "language": "python",
   "name": "python3"
  },
  "language_info": {
   "codemirror_mode": {
    "name": "ipython",
    "version": 3
   },
   "file_extension": ".py",
   "mimetype": "text/x-python",
   "name": "python",
   "nbconvert_exporter": "python",
   "pygments_lexer": "ipython3",
   "version": "3.11.5"
  }
 },
 "nbformat": 4,
 "nbformat_minor": 5
}
