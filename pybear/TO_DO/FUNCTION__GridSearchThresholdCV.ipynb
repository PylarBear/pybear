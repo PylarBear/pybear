{
 "cells": [
  {
   "cell_type": "code",
   "execution_count": 4,
   "id": "bd9e5f5b-37c1-4e71-a288-752b860f81e4",
   "metadata": {},
   "outputs": [],
   "source": [
    "import os, base64, io\n",
    "import pickle\n",
    "from GridSearchThresholdCV import GridSearchThresholdCV"
   ]
  },
  {
   "cell_type": "code",
   "execution_count": null,
   "id": "f39d423e-7736-4aa3-864a-8912d75f7d4f",
   "metadata": {},
   "outputs": [],
   "source": []
  },
  {
   "cell_type": "code",
   "execution_count": 5,
   "id": "38d98045-115f-4fca-bbf9-c2d46ba6f21d",
   "metadata": {},
   "outputs": [],
   "source": [
    "# CONVERT GridSearchThresholdCV FUNCTION TO BASE64 ##################################################################"
   ]
  },
  {
   "cell_type": "code",
   "execution_count": 6,
   "id": "499f5417-1e7e-44d2-b804-46825ba3e2d4",
   "metadata": {},
   "outputs": [],
   "source": [
    "# pickle_str = pickle.dumps(GridSearchThresholdCV)\n",
    "# b64_str = base64.b64encode(pickle_str).decode()\n",
    "\n",
    "# with open(r'/home/bear/Desktop/gstcv_b64_dump', 'w') as f:\n",
    "#     f.write(b64_str)\n",
    "    "
   ]
  },
  {
   "cell_type": "code",
   "execution_count": 7,
   "id": "6c830429-6152-487e-86c5-8a8a63ec2ae0",
   "metadata": {},
   "outputs": [],
   "source": [
    "# LAST UPDATE 24_02_29_18_10_00\n",
    "GSTCV_embed = 'gASVHQAAAAAAAACMFUdyaWRTZWFyY2hUaHJlc2hvbGRDVpRoAJOULg=='"
   ]
  },
  {
   "cell_type": "code",
   "execution_count": 8,
   "id": "402ecf71-9c16-4da8-9664-4fe4339154e4",
   "metadata": {},
   "outputs": [],
   "source": [
    "# END CONVERT GridSearchThresholdCV FUNCTION TO BASE64 ##############################################################"
   ]
  },
  {
   "cell_type": "code",
   "execution_count": null,
   "id": "a9e5d8f2-d1ee-445f-a256-4e6d976a14ad",
   "metadata": {},
   "outputs": [],
   "source": []
  },
  {
   "cell_type": "code",
   "execution_count": 9,
   "id": "cb7ab0d1-04cc-4756-a57b-78a74d58b916",
   "metadata": {},
   "outputs": [],
   "source": [
    "# VALIDATE BASE64 ENCODING ###########################################################################################"
   ]
  },
  {
   "cell_type": "code",
   "execution_count": 10,
   "id": "1fdbcb9f-ede7-4bd1-9654-340535b52312",
   "metadata": {},
   "outputs": [],
   "source": [
    "import numpy as np\n",
    "from sklearn.linear_model import LogisticRegression as LR"
   ]
  },
  {
   "cell_type": "code",
   "execution_count": 11,
   "id": "e312f586-827e-4727-b1f1-ae4c5957793a",
   "metadata": {},
   "outputs": [],
   "source": [
    "_rows, _cols = 100, 10\n",
    "X = np.random.randint(0,10,(_rows,_cols))\n",
    "y = np.random.randint(0,2,_rows)"
   ]
  },
  {
   "cell_type": "code",
   "execution_count": 12,
   "id": "68c1caf7-2f96-4ec6-a44e-e82911981a4b",
   "metadata": {},
   "outputs": [],
   "source": [
    "GridSearchThresholdCV = pickle.loads(base64.b64decode(GSTCV_embed.encode()))"
   ]
  },
  {
   "cell_type": "code",
   "execution_count": 13,
   "id": "d7affa7d-822c-4340-b896-332341fb2d3f",
   "metadata": {},
   "outputs": [],
   "source": [
    "clf = LR(\n",
    "            penalty='l2',\n",
    "            dual=False,\n",
    "            tol=0.0001,\n",
    "            C=1.0,\n",
    "            fit_intercept=True,\n",
    "            intercept_scaling=1,\n",
    "            class_weight=None,\n",
    "            random_state=None,\n",
    "            solver='lbfgs',\n",
    "            max_iter=100,\n",
    "            multi_class='auto',\n",
    "            verbose=0,\n",
    "            warm_start=False,\n",
    "            n_jobs=None,\n",
    "            l1_ratio=None,\n",
    ")"
   ]
  },
  {
   "cell_type": "code",
   "execution_count": 14,
   "id": "1f198771-ccb5-4b81-a4a4-35ebac9e0565",
   "metadata": {},
   "outputs": [],
   "source": [
    "searcher = GridSearchThresholdCV(\n",
    "                                    clf,\n",
    "                                    {'C':np.logspace(-3,3,7)},\n",
    "                                    scoring='balanced_accuracy'\n",
    ")"
   ]
  },
  {
   "cell_type": "code",
   "execution_count": 15,
   "id": "9228619a-8fd0-4aab-bcc2-2a7ce39cccaa",
   "metadata": {},
   "outputs": [
    {
     "data": {
      "text/plain": [
       "<GridSearchThresholdCV.GridSearchThresholdCV at 0x7f1bd9dee010>"
      ]
     },
     "execution_count": 15,
     "metadata": {},
     "output_type": "execute_result"
    }
   ],
   "source": [
    "searcher.fit(X,y)"
   ]
  },
  {
   "cell_type": "code",
   "execution_count": 16,
   "id": "9112ff25-b433-49e1-9dca-aef77385f1d3",
   "metadata": {},
   "outputs": [
    {
     "data": {
      "text/plain": [
       "0.6121991024071807"
      ]
     },
     "execution_count": 16,
     "metadata": {},
     "output_type": "execute_result"
    }
   ],
   "source": [
    "searcher.score(X,y)"
   ]
  },
  {
   "cell_type": "code",
   "execution_count": 17,
   "id": "50462105-b12d-4153-a2c2-9c55e23df699",
   "metadata": {},
   "outputs": [],
   "source": [
    "# END VALIDATE BASE64 ENCODING #######################################################################################"
   ]
  },
  {
   "cell_type": "code",
   "execution_count": null,
   "id": "3d699379-d436-40c1-86bb-5eb11673dae0",
   "metadata": {},
   "outputs": [],
   "source": []
  },
  {
   "cell_type": "code",
   "execution_count": null,
   "id": "2e2c1061-7442-4925-9dcb-515789039903",
   "metadata": {},
   "outputs": [],
   "source": []
  },
  {
   "cell_type": "code",
   "execution_count": null,
   "id": "6448a828-2e36-49db-95c2-167f0c5a8fed",
   "metadata": {},
   "outputs": [],
   "source": []
  },
  {
   "cell_type": "code",
   "execution_count": null,
   "id": "e2fc0ac0-fdc8-4b2c-bb63-26f00f301ab6",
   "metadata": {},
   "outputs": [],
   "source": []
  },
  {
   "cell_type": "code",
   "execution_count": null,
   "id": "fa45e6ab-0f71-4500-8640-687e7469364d",
   "metadata": {},
   "outputs": [],
   "source": []
  },
  {
   "cell_type": "code",
   "execution_count": null,
   "id": "6fd1a4ce-f4fd-42c7-a3dd-a1e7caf2c77a",
   "metadata": {},
   "outputs": [],
   "source": []
  },
  {
   "cell_type": "code",
   "execution_count": null,
   "id": "b1109326-fa96-4304-a71f-f1b449320f47",
   "metadata": {},
   "outputs": [],
   "source": []
  },
  {
   "cell_type": "code",
   "execution_count": null,
   "id": "da024d59-ee46-4cd1-8900-5574b4855733",
   "metadata": {},
   "outputs": [],
   "source": []
  }
 ],
 "metadata": {
  "kernelspec": {
   "display_name": "Python 3 (ipykernel)",
   "language": "python",
   "name": "python3"
  },
  "language_info": {
   "codemirror_mode": {
    "name": "ipython",
    "version": 3
   },
   "file_extension": ".py",
   "mimetype": "text/x-python",
   "name": "python",
   "nbconvert_exporter": "python",
   "pygments_lexer": "ipython3",
   "version": "3.11.5"
  }
 },
 "nbformat": 4,
 "nbformat_minor": 5
}
