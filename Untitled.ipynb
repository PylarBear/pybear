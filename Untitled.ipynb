{
 "cells": [
  {
   "cell_type": "code",
   "execution_count": 2,
   "id": "1cc60e6e-477e-4aa7-a795-e0390214ea54",
   "metadata": {},
   "outputs": [],
   "source": [
    "import numpy as np\n",
    "import pandas as pd\n",
    "import scipy.sparse as ss\n",
    "from sklearn.preprocessing import StandardScaler\n",
    "from uuid import uuid4\n",
    "\n"
   ]
  },
  {
   "cell_type": "code",
   "execution_count": null,
   "id": "a65df572-d2cd-4a64-b1c4-b4571beb57db",
   "metadata": {},
   "outputs": [],
   "source": []
  },
  {
   "cell_type": "code",
   "execution_count": null,
   "id": "680d3fb7-3745-4ced-86ea-64165754b097",
   "metadata": {},
   "outputs": [],
   "source": []
  },
  {
   "cell_type": "code",
   "execution_count": null,
   "id": "a2a76248-4daa-4aa4-88c7-1c2a98d13823",
   "metadata": {},
   "outputs": [],
   "source": []
  },
  {
   "cell_type": "code",
   "execution_count": null,
   "id": "6bc93a6d-b50a-4cfa-91f6-21a2401475e2",
   "metadata": {},
   "outputs": [],
   "source": [
    "_rows = 100\n",
    "_cols = 5\n",
    "\n",
    "X_np = np.random.randint(0, 3, (_rows, _cols))\n",
    "COLUMNS = [str(uuid4())[:4] for _ in range(_cols)]\n",
    "\n",
    "X_pd = pd.DataFrame(data=X_np, columns=COLUMNS)\n",
    "\n",
    "X_ss = ss.csr_matrix(X_np)\n",
    "\n",
    "SS = StandardScaler(with_mean=False, with_std=True)\n",
    "\n",
    "OUT = SS.fit_transform(X_ss)\n",
    "np.array_equiv(OUT[:20, 4], OUT[:20, 0])"
   ]
  },
  {
   "cell_type": "code",
   "execution_count": null,
   "id": "d6fec053-8308-4311-af7b-4e82a79f3597",
   "metadata": {},
   "outputs": [],
   "source": []
  },
  {
   "cell_type": "code",
   "execution_count": null,
   "id": "4ad0e2d2-06bf-4cbc-aec7-418ca370261f",
   "metadata": {},
   "outputs": [],
   "source": []
  },
  {
   "cell_type": "code",
   "execution_count": 40,
   "id": "50ab916d-f6a4-4f3f-819e-9752e2180581",
   "metadata": {
    "scrolled": true
   },
   "outputs": [
    {
     "data": {
      "text/plain": [
       "<20x5 sparse array of type '<class 'numpy.int64'>'\n",
       "\twith 92 stored elements (blocksize = 1x1) in Block Sparse Row format>"
      ]
     },
     "execution_count": 40,
     "metadata": {},
     "output_type": "execute_result"
    }
   ],
   "source": [
    "X = np.random.randint(0,10,(20,5))\n",
    "\n",
    "\n",
    "ss.csr_matrix(X)\n",
    "ss.csc_matrix(X)\n",
    "ss.coo_matrix(X)\n",
    "ss.dia_matrix(X)\n",
    "ss.lil_matrix(X)\n",
    "ss.dok_matrix(X)\n",
    "ss.bsr_matrix(X)\n",
    "\n",
    "ss.csr_array(X)\n",
    "ss.csc_array(X)\n",
    "ss.coo_array(X)\n",
    "ss.dia_array(X)\n",
    "ss.lil_array(X)\n",
    "ss.dok_array(X)\n",
    "ss.bsr_array(X)"
   ]
  },
  {
   "cell_type": "code",
   "execution_count": null,
   "id": "b40f4758-674b-41a7-b636-462e572e0660",
   "metadata": {},
   "outputs": [],
   "source": []
  },
  {
   "cell_type": "code",
   "execution_count": null,
   "id": "9ed55a86-7186-4ac8-a215-a98441f34120",
   "metadata": {},
   "outputs": [],
   "source": []
  },
  {
   "cell_type": "code",
   "execution_count": null,
   "id": "a1641a8f-36df-405f-b0a6-0a9c26b7e263",
   "metadata": {},
   "outputs": [],
   "source": []
  },
  {
   "cell_type": "code",
   "execution_count": null,
   "id": "3c1b428f-2ff3-4f0a-8602-dcff1315b7c4",
   "metadata": {},
   "outputs": [],
   "source": []
  },
  {
   "cell_type": "code",
   "execution_count": null,
   "id": "b122fea3-7cdf-42f2-bad8-ebc63d536517",
   "metadata": {},
   "outputs": [],
   "source": []
  },
  {
   "cell_type": "code",
   "execution_count": 85,
   "id": "9c0cd399-5289-4727-a555-374ed62f0082",
   "metadata": {},
   "outputs": [
    {
     "ename": "TypeError",
     "evalue": "set.pop() takes no arguments (1 given)",
     "output_type": "error",
     "traceback": [
      "\u001b[0;31m---------------------------------------------------------------------------\u001b[0m",
      "\u001b[0;31mTypeError\u001b[0m                                 Traceback (most recent call last)",
      "Cell \u001b[0;32mIn[85], line 2\u001b[0m\n\u001b[1;32m      1\u001b[0m x \u001b[38;5;241m=\u001b[39m {\u001b[38;5;241m1\u001b[39m,\u001b[38;5;241m2\u001b[39m,\u001b[38;5;241m3\u001b[39m}\n\u001b[0;32m----> 2\u001b[0m \u001b[43mx\u001b[49m\u001b[38;5;241;43m.\u001b[39;49m\u001b[43mpop\u001b[49m\u001b[43m(\u001b[49m\u001b[38;5;241;43m4\u001b[39;49m\u001b[43m)\u001b[49m\n\u001b[1;32m      3\u001b[0m x\n",
      "\u001b[0;31mTypeError\u001b[0m: set.pop() takes no arguments (1 given)"
     ]
    }
   ],
   "source": [
    "x = [1,2,3]\n",
    "x.remove(4)\n",
    "x"
   ]
  },
  {
   "cell_type": "code",
   "execution_count": 86,
   "id": "ef1cff47-6d0f-40c7-9eee-294cd087da5a",
   "metadata": {},
   "outputs": [
    {
     "data": {
      "text/plain": [
       "[[1, 2, 3], [4, 6], [7, 8]]"
      ]
     },
     "execution_count": 86,
     "metadata": {},
     "output_type": "execute_result"
    }
   ],
   "source": [
    "import itertools\n",
    "\n",
    "tron = [[1,2,3], [4,5,6], [7,8,9]]\n",
    "\n",
    "lost = [5, 9]\n",
    "\n",
    "tron = [[v for v in _set if v not in lost] for _set in tron]\n",
    "tron"
   ]
  },
  {
   "cell_type": "code",
   "execution_count": 87,
   "id": "a9e4d773-c172-4f0f-a586-0ce2bbaeaf4e",
   "metadata": {},
   "outputs": [
    {
     "data": {
      "text/plain": [
       "{1, 2}"
      ]
     },
     "execution_count": 87,
     "metadata": {},
     "output_type": "execute_result"
    }
   ],
   "source": [
    "set([1,2,3,4,5]) - set([3,4,5,6,7])"
   ]
  }
 ],
 "metadata": {
  "kernelspec": {
   "display_name": "Python 3 (ipykernel)",
   "language": "python",
   "name": "python3"
  },
  "language_info": {
   "codemirror_mode": {
    "name": "ipython",
    "version": 3
   },
   "file_extension": ".py",
   "mimetype": "text/x-python",
   "name": "python",
   "nbconvert_exporter": "python",
   "pygments_lexer": "ipython3",
   "version": "3.11.10"
  }
 },
 "nbformat": 4,
 "nbformat_minor": 5
}
