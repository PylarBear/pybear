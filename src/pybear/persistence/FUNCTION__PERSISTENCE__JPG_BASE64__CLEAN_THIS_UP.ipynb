{
 "cells": [
  {
   "cell_type": "code",
   "execution_count": null,
   "id": "9d4ba20d-8a8c-4429-9cd1-079060f30619",
   "metadata": {},
   "outputs": [],
   "source": [
    "import os\n",
    "import io\n",
    "import glob\n",
    "import base64"
   ]
  },
  {
   "cell_type": "code",
   "execution_count": null,
   "id": "4f48a7bf-491f-4848-b1a9-6db7dc3a1df4",
   "metadata": {},
   "outputs": [],
   "source": []
  },
  {
   "cell_type": "code",
   "execution_count": null,
   "id": "1b769518-a5fd-46ec-8e76-84f22eacdee3",
   "metadata": {},
   "outputs": [],
   "source": [
    "# THIS ISNT WORKING #######################################################################\n",
    "# ic = skimage.io.ImageCollection(os.path.join(f'{basepath}', f'*.jpeg'))\n",
    "\n",
    "# filename = os.path.join(\"\\\\users\",\"bill\",\"desktop\",f\"Z34_{idx+1}.txt\")\n",
    "# with open(filename, mode='wb') as f:\n",
    "#     f.write(base64.b64encode(ic[idx]))  <===== THIS ISNT GIVING THE CORRECT ENCODING\n",
    "#     f.close\n",
    "\n",
    "# THIS WORKS ###############################################################################\n",
    "# with io.open(os.path.join(f'{basepath}', f'2005_10_27_13_52_00.jpg'), 'rb') as f:\n",
    "#     img_data = f.read()\n",
    "\n",
    "# filename = os.path.join(\"\\\\users\",\"bill\",\"desktop\",f\"Z34_{idx+1}.txt\")\n",
    "# with open(filename, mode='wb') as f:\n",
    "#     f.write(base64.b64encode(img_data))\n",
    "#     f.close()\n",
    "\n",
    "# THE DIFFERENCE IS USING io.open() AND .read() TO OPEN IMAGE AS OPPOSED TO skimage.io.ImageCollection OR skimage.io.imread\n",
    "# HAVE NO IDEA WHY THIS IS HAPPENING"
   ]
  },
  {
   "cell_type": "code",
   "execution_count": null,
   "id": "b6d47add-e198-4b8c-888e-08172f761585",
   "metadata": {},
   "outputs": [],
   "source": []
  },
  {
   "cell_type": "code",
   "execution_count": null,
   "id": "86bf4fee-6342-4921-ae46-ed9554771af6",
   "metadata": {},
   "outputs": [],
   "source": [
    "# CODE FOR CREATING BASE64 EMBEDS\n",
    "\n",
    "if os.name == 'posix': \n",
    "    basepath = os.path.join('/home', 'bear','Desktop')\n",
    "    dumppath = os.path.join('/home', 'bear','Desktop')\n",
    "elif os.name == 'nt': \n",
    "    basepath = os.path.join('\\\\Users', 'Bill','Documents','BEAR_DOCUMENTS','PICTURES','MONTE_CARLO')    \n",
    "    dumppath =  dumppath = os.path.join(\"\\\\users\",\"bill\",\"desktop\")\n",
    "\n",
    "FILES = glob.glob(os.path.join(basepath, \"*.jpg\"))\n",
    "\n",
    "for idx, filename in enumerate(FILES):\n",
    "\n",
    "    print(f'Reading file {idx+1}... ', end='')\n",
    "    with io.open(filename, 'rb') as f:\n",
    "        img_data = f.read()\n",
    "        f.close()\n",
    "\n",
    "    print(f'Writing base64 encoding to dump file... ', end='')\n",
    "    try: os.remove(dumppath)\n",
    "    except: pass\n",
    "    with open(os.path.join(dumppath, f\"Z34_{idx+1}.txt\"), mode='wb') as f:\n",
    "        f.write(base64.b64encode(img_data))\n",
    "        f.close()\n",
    "    print(f'Done.')"
   ]
  },
  {
   "cell_type": "code",
   "execution_count": null,
   "id": "3c0498d9-ac7e-495d-bc1e-aefebd9f2376",
   "metadata": {},
   "outputs": [],
   "source": []
  },
  {
   "cell_type": "code",
   "execution_count": null,
   "id": "1017d482-bcc4-4610-acde-606dc5488c19",
   "metadata": {},
   "outputs": [],
   "source": []
  },
  {
   "cell_type": "code",
   "execution_count": null,
   "id": "e9950e17-4159-41f0-a656-a6dc36ce1143",
   "metadata": {},
   "outputs": [],
   "source": []
  },
  {
   "cell_type": "code",
   "execution_count": null,
   "id": "1f9d11e1-e081-4dc7-98f3-7ec19bfdc31f",
   "metadata": {},
   "outputs": [],
   "source": []
  },
  {
   "cell_type": "code",
   "execution_count": null,
   "id": "c550cd43-2e8b-426a-85b1-2a1707bf985b",
   "metadata": {},
   "outputs": [],
   "source": []
  }
 ],
 "metadata": {
  "kernelspec": {
   "display_name": "Python 3 (ipykernel)",
   "language": "python",
   "name": "python3"
  },
  "language_info": {
   "codemirror_mode": {
    "name": "ipython",
    "version": 3
   },
   "file_extension": ".py",
   "mimetype": "text/x-python",
   "name": "python",
   "nbconvert_exporter": "python",
   "pygments_lexer": "ipython3",
   "version": "3.9.13"
  }
 },
 "nbformat": 4,
 "nbformat_minor": 5
}
