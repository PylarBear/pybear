{
 "cells": [
  {
   "cell_type": "code",
   "execution_count": 1,
   "id": "0a9e712b-9e95-4a55-bf74-afaa75ec94e4",
   "metadata": {},
   "outputs": [],
   "source": [
    "import os, io, base64"
   ]
  },
  {
   "cell_type": "code",
   "execution_count": 2,
   "id": "f95420e4-47e8-4076-a7ee-56166c58f762",
   "metadata": {},
   "outputs": [],
   "source": [
    "# MAKE BASE64 EMBED OF TEXT, EITHER FROM A PYTHON VARIABLE OR FILE"
   ]
  },
  {
   "cell_type": "code",
   "execution_count": null,
   "id": "8b3ba477-3ac0-4078-8ebe-6b8310661200",
   "metadata": {},
   "outputs": [],
   "source": []
  },
  {
   "cell_type": "markdown",
   "id": "b4726797-981a-4173-90da-b4a3553c7778",
   "metadata": {},
   "source": [
    "### FROM PYTHON VARIABLE *****************************************************************************"
   ]
  },
  {
   "cell_type": "code",
   "execution_count": 3,
   "id": "2fa323fe-192c-4ba1-a55c-40ea4c7bdfb5",
   "metadata": {},
   "outputs": [],
   "source": [
    "# ENCODE\n",
    "\n",
    "def string_encoder(instruction_string_as_python_variable):\n",
    "\n",
    "    \"\"\"\n",
    "    DUMPS A base64 ENCODING OF A PYTHON STRING TO THE GIVEN PATH AND FILENAME.\n",
    "    RETRIEVE THE base64 STRING FROM THAT FILE AND PASTE INTO A STRING VARIABLE DECLARATION INSIDE PYTHON SCRIPT.\n",
    "    \"\"\"\n",
    "    \n",
    "    filename = 'base64_text_dump.txt'\n",
    "\n",
    "    if os.name=='nt': desktop_path = r'c:\\users\\bill\\desktop'\n",
    "    elif os.name=='posix': desktop_path = r'/home/bear/Desktop'\n",
    "    \n",
    "    path_and_file_name = os.path.join(desktop_path, filename)\n",
    "    \n",
    "    # WRITE THE CONTENT OF THE PYTHON VARIABLE AS BINARY TO A FILE\n",
    "    with open(path_and_file_name, 'w') as f:\n",
    "        f.write(instruction_string_as_python_variable)\n",
    "    \n",
    "    # READ IN THE BINARY CONTENT INTO io.BytesIO\n",
    "    with open(path_and_file_name, 'rb') as f:\n",
    "        IO_HOLDER = io.BytesIO(f.read())\n",
    "    \n",
    "    # EXTRACT THE BINARY CONTENT FROM io.BytesIO, ENCODE, AND SAVE ENCODING TO FILE\n",
    "    with open(path_and_file_name, 'w') as f:\n",
    "        f.write(base64.b64encode(IO_HOLDER.getvalue()).decode())\n",
    "    \n",
    "    del instruction_string_as_python_variable, IO_HOLDER, desktop_path"
   ]
  },
  {
   "cell_type": "code",
   "execution_count": null,
   "id": "7b12aa78-b149-45e0-a6c3-24b206831b2b",
   "metadata": {},
   "outputs": [],
   "source": [
    "# DECODE\n",
    "\n",
    "# base64_embed = ''\n",
    "\n",
    "# base64.b64decode(base64_embed).decode()"
   ]
  },
  {
   "cell_type": "code",
   "execution_count": null,
   "id": "c582364a-c7a2-43d4-950c-4a3dbbe6a346",
   "metadata": {},
   "outputs": [],
   "source": []
  },
  {
   "cell_type": "markdown",
   "id": "605ad455-ece4-40c8-a83d-12acede7462c",
   "metadata": {},
   "source": [
    "#### DEMO **********************************************************************************************"
   ]
  },
  {
   "cell_type": "code",
   "execution_count": 4,
   "id": "b32ca622-79e1-4bb0-9bc3-8255f7d5c596",
   "metadata": {},
   "outputs": [],
   "source": [
    "example_string = \"\"\"\n",
    "THIS\n",
    "IS\n",
    "ONLY\n",
    "A\n",
    "TEST\n",
    "OF\n",
    "EMBEDDING\n",
    "TEXT\n",
    "FROM\n",
    "A\n",
    "PYTHON\n",
    "VARIABLE\n",
    "\"\"\""
   ]
  },
  {
   "cell_type": "code",
   "execution_count": 5,
   "id": "9bb73bd0-70e8-433b-9129-1e01f91d750b",
   "metadata": {},
   "outputs": [],
   "source": [
    "string_encoder(example_string)\n",
    "del example_string"
   ]
  },
  {
   "cell_type": "code",
   "execution_count": 6,
   "id": "6348f066-dfe5-4b2f-8d89-2c60293c99c2",
   "metadata": {},
   "outputs": [],
   "source": [
    "base64_embed = 'ClRISVMKSVMKT05MWQpBClRFU1QKT0YKRU1CRURESU5HClRFWFQKRlJPTQpBClBZVEhPTgpWQVJJQUJMRQo='"
   ]
  },
  {
   "cell_type": "code",
   "execution_count": 7,
   "id": "63b5d9fe-ac4f-46af-a726-b7470f1102c8",
   "metadata": {},
   "outputs": [
    {
     "name": "stdout",
     "output_type": "stream",
     "text": [
      "\n",
      "THIS\n",
      "IS\n",
      "ONLY\n",
      "A\n",
      "TEST\n",
      "OF\n",
      "EMBEDDING\n",
      "TEXT\n",
      "FROM\n",
      "A\n",
      "PYTHON\n",
      "VARIABLE\n",
      "\n"
     ]
    }
   ],
   "source": [
    "# VERIFY THE ENCODING\n",
    "print(base64.b64decode(base64_embed).decode())\n",
    "del base64_embed"
   ]
  },
  {
   "cell_type": "code",
   "execution_count": 8,
   "id": "61f25bd7-902d-4b55-8218-58feab0d4630",
   "metadata": {},
   "outputs": [],
   "source": [
    "# ONCE THE base64 ENCODING IS RETRIEVED, DELETE THE FILE\n",
    "# os.remove(path_and_file_name)"
   ]
  },
  {
   "cell_type": "markdown",
   "id": "f296c35c-805e-48e9-aa93-d3716be3f3dd",
   "metadata": {},
   "source": [
    "#### END DEMO ******************************************************************************************"
   ]
  },
  {
   "cell_type": "markdown",
   "id": "92669036-13c4-4bae-b973-aed99605c3b8",
   "metadata": {},
   "source": [
    "### END FROM PYTHON VARIABLE *****************************************************************************"
   ]
  },
  {
   "cell_type": "code",
   "execution_count": null,
   "id": "5e7a7a2d-f27b-4309-a8ae-2324f943aaa8",
   "metadata": {},
   "outputs": [],
   "source": []
  },
  {
   "cell_type": "markdown",
   "id": "268fb54b-0f55-4475-872f-850054fe8379",
   "metadata": {},
   "source": [
    "### FROM TEXT FILE **************************************************************************************"
   ]
  },
  {
   "cell_type": "code",
   "execution_count": 9,
   "id": "49a3bc15-ba5b-4101-b3ef-fc7b67e99363",
   "metadata": {},
   "outputs": [],
   "source": [
    "# ENCODE\n",
    "\n",
    "def text_file_embedder(path_of_file_to_encode):\n",
    "\n",
    "    \"\"\"\n",
    "    DUMPS A base64 ENCODING OF A TEXT FILE TO THE GIVEN PATH AND FILENAME.\n",
    "    RETRIEVE THE base64 STRING FROM THAT FILE AND PASTE INTO A STRING VARIABLE DECLARATION INSIDE PYTHON SCRIPT.\n",
    "    \"\"\"\n",
    "    \n",
    "    filename = 'base64_text_dump.txt'\n",
    "\n",
    "    if os.name=='nt': desktop_path = r'c:\\users\\bill\\desktop'\n",
    "    elif os.name=='posix': desktop_path = r'/home/bear/Desktop'\n",
    "    \n",
    "    path_and_file_name = os.path.join(desktop_path, filename)\n",
    "    \n",
    "    # READ IN THE BINARY CONTENT INTO io.BytesIO\n",
    "    with open(path_of_file_to_encode, 'rb') as f:\n",
    "        IO_HOLDER = io.BytesIO(f.read())\n",
    "    \n",
    "    # EXTRACT THE BINARY CONTENT FROM io.BytesIO, ENCODE, AND SAVE ENCODING TO FILE\n",
    "    with open(path_and_file_name, 'w') as f:\n",
    "        f.write(base64.b64encode(IO_HOLDER.getvalue()).decode())\n",
    "    \n",
    "    del path_of_file_to_encode, IO_HOLDER, desktop_path"
   ]
  },
  {
   "cell_type": "code",
   "execution_count": null,
   "id": "cc618de3-4179-4dbc-af6b-8432f2a155b1",
   "metadata": {},
   "outputs": [],
   "source": [
    "# DECODE\n",
    "# base64.b64decode(base64_embed).decode()"
   ]
  },
  {
   "cell_type": "code",
   "execution_count": null,
   "id": "b3912466-7768-43ad-8891-c5c30b9d1043",
   "metadata": {},
   "outputs": [],
   "source": []
  },
  {
   "cell_type": "markdown",
   "id": "109e764c-6134-47b3-9b94-c248985919b7",
   "metadata": {},
   "source": [
    "#### DEMO **********************************************************************************************"
   ]
  },
  {
   "cell_type": "code",
   "execution_count": null,
   "id": "d486dc8f-411c-492d-8fbe-3653ab4c0979",
   "metadata": {},
   "outputs": [],
   "source": [
    "# CREATE AN EXAMPLE FILE\n",
    "\n",
    "example_string = \"\"\"\n",
    "THIS\n",
    "IS\n",
    "ONLY\n",
    "A\n",
    "TEST\n",
    "OF\n",
    "EMBEDDING\n",
    "TEXT\n",
    "FROM\n",
    "A\n",
    "PYTHON\n",
    "VARIABLE\n",
    "\"\"\"\n",
    "\n",
    "if os.name=='nt': filepath = r'c:\\users\\bill\\desktop\\base64_demo_file.txt'\n",
    "elif os.name=='posix': filepath = r'/home/bear/Desktop/base64_demo_file.txt'\n",
    "\n",
    "with open(filepath, 'w') as f:\n",
    "    f.write(example_string)\n",
    "\n",
    "del example_string"
   ]
  },
  {
   "cell_type": "code",
   "execution_count": 11,
   "id": "59fccc70-9f9a-4870-93af-2218933afdb4",
   "metadata": {},
   "outputs": [],
   "source": [
    "text_file_embedder(filepath)"
   ]
  },
  {
   "cell_type": "code",
   "execution_count": 12,
   "id": "733c8d9d-5b30-4f92-9c97-d32a5ebd43f9",
   "metadata": {},
   "outputs": [],
   "source": [
    "base64_embed = 'ClRISVMKSVMKT05MWQpBClRFU1QKT0YKRU1CRURESU5HClRFWFQKRlJPTQpBClBZVEhPTgpWQVJJQUJMRQo='"
   ]
  },
  {
   "cell_type": "code",
   "execution_count": 13,
   "id": "b03838a1-17de-4e08-9218-4022706c46ec",
   "metadata": {},
   "outputs": [
    {
     "name": "stdout",
     "output_type": "stream",
     "text": [
      "\n",
      "THIS\n",
      "IS\n",
      "ONLY\n",
      "A\n",
      "TEST\n",
      "OF\n",
      "EMBEDDING\n",
      "TEXT\n",
      "FROM\n",
      "A\n",
      "PYTHON\n",
      "VARIABLE\n",
      "\n"
     ]
    }
   ],
   "source": [
    "# VERIFY ENCODING\n",
    "print(base64.b64decode(base64_embed).decode())\n",
    "del base64_embed"
   ]
  },
  {
   "cell_type": "code",
   "execution_count": 14,
   "id": "792e8e9f-fc21-48e6-ba1f-f6457baacd76",
   "metadata": {},
   "outputs": [],
   "source": [
    "# ONCE THE base64 ENCODING IS RETRIEVED, DELETE THE FILE\n",
    "# os.remove(path_and_file_name)"
   ]
  },
  {
   "cell_type": "markdown",
   "id": "2d855afb-ff95-4329-a0d9-1a0182a0e486",
   "metadata": {},
   "source": [
    "#### END DEMO *****************************************************************************************"
   ]
  },
  {
   "cell_type": "markdown",
   "id": "f215a799-72c3-432c-b1b0-ce50140660d8",
   "metadata": {},
   "source": [
    "### END FROM TEXT FILE **********************************************************************************"
   ]
  },
  {
   "cell_type": "code",
   "execution_count": null,
   "id": "81b2e736-28f7-41bb-ae49-a277e7d83860",
   "metadata": {},
   "outputs": [],
   "source": []
  },
  {
   "cell_type": "code",
   "execution_count": null,
   "id": "76107f66-19b4-4511-8d0e-bf2a7722e0b5",
   "metadata": {},
   "outputs": [],
   "source": []
  },
  {
   "cell_type": "code",
   "execution_count": null,
   "id": "3b7dc16d-af0b-473a-930f-ba1a32162aba",
   "metadata": {},
   "outputs": [],
   "source": []
  },
  {
   "cell_type": "code",
   "execution_count": null,
   "id": "d574573d-0ed4-43da-9adf-fffd541f1ab0",
   "metadata": {},
   "outputs": [],
   "source": []
  },
  {
   "cell_type": "code",
   "execution_count": null,
   "id": "c6ac5afb-ba1e-458f-8513-12285ba5451a",
   "metadata": {},
   "outputs": [],
   "source": []
  },
  {
   "cell_type": "code",
   "execution_count": null,
   "id": "60e35288-6cd2-4dda-b25b-362c48183ec1",
   "metadata": {},
   "outputs": [],
   "source": []
  },
  {
   "cell_type": "code",
   "execution_count": null,
   "id": "4d59c4d5-1efb-4782-98ce-d2c306ef126d",
   "metadata": {},
   "outputs": [],
   "source": []
  },
  {
   "cell_type": "code",
   "execution_count": null,
   "id": "a42e2b76-a493-4362-8d5c-6d1b3a99fd7e",
   "metadata": {},
   "outputs": [],
   "source": []
  }
 ],
 "metadata": {
  "kernelspec": {
   "display_name": "Python 3 (ipykernel)",
   "language": "python",
   "name": "python3"
  },
  "language_info": {
   "codemirror_mode": {
    "name": "ipython",
    "version": 3
   },
   "file_extension": ".py",
   "mimetype": "text/x-python",
   "name": "python",
   "nbconvert_exporter": "python",
   "pygments_lexer": "ipython3",
   "version": "3.11.5"
  }
 },
 "nbformat": 4,
 "nbformat_minor": 5
}
